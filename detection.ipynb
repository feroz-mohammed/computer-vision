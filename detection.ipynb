{
 "cells": [
  {
   "cell_type": "code",
   "execution_count": 10,
   "id": "e2434279-bfbb-42f4-aabf-396443167e0a",
   "metadata": {
    "scrolled": true
   },
   "outputs": [
    {
     "name": "stdout",
     "output_type": "stream",
     "text": [
      "Requirement already satisfied: opencv-contrib-python in c:\\users\\mohammed feroz\\anaconda3\\lib\\site-packages (4.12.0.88)\n",
      "Collecting numpy<2.3.0,>=2 (from opencv-contrib-python)\n",
      "  Using cached numpy-2.2.6-cp311-cp311-win_amd64.whl.metadata (60 kB)\n",
      "Using cached numpy-2.2.6-cp311-cp311-win_amd64.whl (12.9 MB)\n",
      "Installing collected packages: numpy\n",
      "  Attempting uninstall: numpy\n",
      "    Found existing installation: numpy 1.26.4\n",
      "    Uninstalling numpy-1.26.4:\n",
      "      Successfully uninstalled numpy-1.26.4\n",
      "Successfully installed numpy-2.2.6\n"
     ]
    },
    {
     "name": "stderr",
     "output_type": "stream",
     "text": [
      "  WARNING: Failed to remove contents in a temporary directory 'C:\\Users\\MOHAMMED FEROZ\\AppData\\Local\\Temp\\pip-uninstall-lt5ipevt'.\n",
      "  You can safely remove it manually.\n",
      "  WARNING: Failed to remove contents in a temporary directory 'C:\\Users\\MOHAMMED FEROZ\\anaconda3\\Lib\\site-packages\\~umpy.libs'.\n",
      "  You can safely remove it manually.\n",
      "ERROR: pip's dependency resolver does not currently take into account all the packages that are installed. This behaviour is the source of the following dependency conflicts.\n",
      "gensim 4.3.0 requires FuzzyTM>=0.4.0, which is not installed.\n",
      "astropy 5.3.4 requires numpy<2,>=1.21, but you have numpy 2.2.6 which is incompatible.\n",
      "contourpy 1.2.0 requires numpy<2.0,>=1.20, but you have numpy 2.2.6 which is incompatible.\n",
      "matplotlib 3.8.0 requires numpy<2,>=1.21, but you have numpy 2.2.6 which is incompatible.\n",
      "numba 0.59.0 requires numpy<1.27,>=1.22, but you have numpy 2.2.6 which is incompatible.\n",
      "pandas 2.1.4 requires numpy<2,>=1.23.2; python_version == \"3.11\", but you have numpy 2.2.6 which is incompatible.\n",
      "pywavelets 1.5.0 requires numpy<2.0,>=1.22.4, but you have numpy 2.2.6 which is incompatible.\n",
      "scipy 1.11.4 requires numpy<1.28.0,>=1.21.6, but you have numpy 2.2.6 which is incompatible.\n"
     ]
    }
   ],
   "source": [
    "! pip install opencv-contrib-python"
   ]
  },
  {
   "cell_type": "code",
   "execution_count": 11,
   "id": "8937ac30-4acb-4523-98ff-d5d7d3342329",
   "metadata": {
    "scrolled": true
   },
   "outputs": [
    {
     "name": "stdout",
     "output_type": "stream",
     "text": [
      "Collecting numpy==1.26.4\n",
      "  Using cached numpy-1.26.4-cp311-cp311-win_amd64.whl.metadata (61 kB)\n",
      "Using cached numpy-1.26.4-cp311-cp311-win_amd64.whl (15.8 MB)\n",
      "Installing collected packages: numpy\n",
      "  Attempting uninstall: numpy\n",
      "    Found existing installation: numpy 2.2.6\n",
      "    Uninstalling numpy-2.2.6:\n",
      "      Successfully uninstalled numpy-2.2.6\n",
      "Successfully installed numpy-1.26.4\n",
      "Note: you may need to restart the kernel to use updated packages.\n"
     ]
    },
    {
     "name": "stderr",
     "output_type": "stream",
     "text": [
      "ERROR: pip's dependency resolver does not currently take into account all the packages that are installed. This behaviour is the source of the following dependency conflicts.\n",
      "gensim 4.3.0 requires FuzzyTM>=0.4.0, which is not installed.\n",
      "opencv-contrib-python 4.12.0.88 requires numpy<2.3.0,>=2; python_version >= \"3.9\", but you have numpy 1.26.4 which is incompatible.\n"
     ]
    }
   ],
   "source": [
    "pip install \"numpy==1.26.4\" --force-reinstall\n"
   ]
  },
  {
   "cell_type": "code",
   "execution_count": 1,
   "id": "501ad59f-d245-4469-b8e6-ec3a707543ce",
   "metadata": {},
   "outputs": [],
   "source": [
    "import cv2\n",
    "\n",
    "input = cv2.imread('elephant.jpg')\n",
    "cv2.imshow('my elephant', input)\n",
    "cv2.waitKey(0)\n",
    "cv2.destroyAllWindows()"
   ]
  },
  {
   "cell_type": "code",
   "execution_count": 2,
   "id": "ee309473-ea2e-48cb-90f3-a63d55c0dee4",
   "metadata": {},
   "outputs": [
    {
     "name": "stdout",
     "output_type": "stream",
     "text": [
      "(360, 540, 3)\n"
     ]
    }
   ],
   "source": [
    "print(input.shape)"
   ]
  },
  {
   "cell_type": "code",
   "execution_count": 3,
   "id": "25311203-55f0-4eaa-a267-fda3d16aa822",
   "metadata": {},
   "outputs": [
    {
     "name": "stdout",
     "output_type": "stream",
     "text": [
      "height of image 360 pixels\n",
      "height of image 540 pixels\n",
      "height of image 3 pixels\n"
     ]
    }
   ],
   "source": [
    "print('height of image', int(input.shape[0]),'pixels')\n",
    "print('height of image', int(input.shape[1]),'pixels')\n",
    "print('height of image', int(input.shape[2]),'pixels')"
   ]
  },
  {
   "cell_type": "code",
   "execution_count": null,
   "id": "9cb09f75-75b1-412c-bd34-a8c4e7baffb2",
   "metadata": {},
   "outputs": [],
   "source": []
  },
  {
   "cell_type": "code",
   "execution_count": 4,
   "id": "3ab642b4-d1ca-4d24-8087-77502783ccfd",
   "metadata": {},
   "outputs": [
    {
     "name": "stdout",
     "output_type": "stream",
     "text": [
      "C:\\Users\\MOHAMMED FEROZ\\anaconda3\\Lib\\site-packages\\cv2\\data\\\n"
     ]
    }
   ],
   "source": [
    "print(cv2.data.haarcascades)"
   ]
  },
  {
   "cell_type": "code",
   "execution_count": 5,
   "id": "ed1b818b-f6f4-4fec-9699-36f92e56d950",
   "metadata": {},
   "outputs": [
    {
     "name": "stderr",
     "output_type": "stream",
     "text": [
      "<>:11: SyntaxWarning: \"is\" with a literal. Did you mean \"==\"?\n",
      "<>:11: SyntaxWarning: \"is\" with a literal. Did you mean \"==\"?\n",
      "C:\\Users\\MOHAMMED FEROZ\\AppData\\Local\\Temp\\ipykernel_11244\\3149614915.py:11: SyntaxWarning: \"is\" with a literal. Did you mean \"==\"?\n",
      "  if faces is ():\n"
     ]
    }
   ],
   "source": [
    "import numpy as np\n",
    "import cv2\n",
    "\n",
    "face_classifier = cv2.CascadeClassifier(\n",
    "    cv2.data.haarcascades + \"haarcascade_lefteye_2splits.xml\"\n",
    ")\n",
    "image = cv2.imread('President_Barack_Obama.jpg')\n",
    "gray = cv2.cvtColor(image, cv2.COLOR_BGR2GRAY)\n",
    "faces = face_classifier.detectMultiScale(gray, 1.3,5)\n",
    "\n",
    "if faces is ():\n",
    "    print(\"No image found\")\n",
    "\n",
    "for (x,y,w,h) in faces:\n",
    "    cv2.rectangle(image, (x, y), (x + w, y + h), (127,0,255), 3)\n",
    "\n",
    "resized = cv2.resize(image, (600, 600))\n",
    "cv2.imshow('face detection',resized)\n",
    "cv2.waitKey(0)\n",
    "cv2.destroyAllWindows()"
   ]
  },
  {
   "cell_type": "code",
   "execution_count": 11,
   "id": "045985d9-f816-4318-9650-789d7fbcfd97",
   "metadata": {},
   "outputs": [
    {
     "name": "stdout",
     "output_type": "stream",
     "text": [
      "C:\\Users\\MOHAMMED FEROZ\\anaconda3\\Lib\\site-packages\\cv2\\data\\\n"
     ]
    }
   ],
   "source": [
    "print(cv2.data.haarcascades)"
   ]
  },
  {
   "cell_type": "code",
   "execution_count": 6,
   "id": "ddb1271b-0693-42cc-93c0-ef8eb475c76d",
   "metadata": {},
   "outputs": [],
   "source": [
    "#face detection\n",
    "\n",
    "\n",
    "import cv2\n",
    "\n",
    "\n",
    "face_classifier = cv2.CascadeClassifier(\n",
    "    cv2.data.haarcascades + \"haarcascade_frontalface_default.xml\"\n",
    ")\n",
    "eye_classifier = cv2.CascadeClassifier(\n",
    "    cv2.data.haarcascades + \"haarcascade_eye.xml\"\n",
    ")\n",
    "\n",
    "img = cv2.imread('President_Barack_Obama.jpg')\n",
    "gray = cv2.cvtColor(img, cv2.COLOR_BGR2GRAY)\n",
    "\n",
    "faces = face_classifier.detectMultiScale(gray, 1.3, 5)\n",
    "\n",
    "if len(faces) == 0:\n",
    "    print(\"No Face Found\")\n",
    "\n",
    "for (x, y, w, h) in faces:\n",
    "    cv2.rectangle(img, (x, y), (x + w, y + h), (127, 0, 255), 2)\n",
    "   \n",
    "    roi_gray = gray[y:y+h, x:x+w]\n",
    "    roi_color = img[y:y+h, x:x+w]\n",
    "    \n",
    "    eyes = eye_classifier.detectMultiScale(roi_gray)\n",
    "    for (ex, ey, ew, eh) in eyes:\n",
    "        cv2.rectangle(roi_color, (ex, ey), (ex+ew, ey+eh), (255, 255, 0), 2)\n",
    "\n",
    "# Show final result once\n",
    "cv2.namedWindow(\"Face and Eye Detection\", cv2.WINDOW_NORMAL)\n",
    "cv2.imshow(\"Face and Eye Detection\", img)\n",
    "cv2.waitKey(0)\n",
    "cv2.destroyAllWindows()\n"
   ]
  },
  {
   "cell_type": "code",
   "execution_count": null,
   "id": "a6050bd4-f55f-49c9-9b46-aaf328e70615",
   "metadata": {},
   "outputs": [],
   "source": []
  },
  {
   "cell_type": "code",
   "execution_count": 7,
   "id": "c75b6cdd-5292-44a4-97cc-c3747ce1867d",
   "metadata": {},
   "outputs": [],
   "source": [
    "#face and eye\n",
    "\n",
    "import cv2\n",
    "\n",
    "face_classifier = cv2.CascadeClassifier(cv2.data.haarcascades + 'haarcascade_frontalface_default.xml')\n",
    "eye_classifier  = cv2.CascadeClassifier(cv2.data.haarcascades + 'haarcascade_eye.xml')\n",
    "\n",
    "def face_detector(img, size=0.5):\n",
    "    if img is None:\n",
    "        return None \n",
    "\n",
    "    gray = cv2.cvtColor(img, cv2.COLOR_BGR2GRAY)\n",
    "\n",
    "    faces = face_classifier.detectMultiScale(gray, scaleFactor=1.3, minNeighbors=5)\n",
    "\n",
    "    if len(faces) == 0:\n",
    "        return img\n",
    "    for (x, y, w, h) in faces:\n",
    "        cv2.rectangle(img, (x, y), (x + w, y + h), (0, 255, 255), 2)\n",
    "        roi_gray = gray[y:y + h, x:x + w]\n",
    "        roi_color = img[y:y + h, x:x + w]\n",
    "\n",
    "        eyes = eye_classifier.detectMultiScale(roi_gray)\n",
    "        for (ex, ey, ew, eh) in eyes:\n",
    "            cv2.rectangle(roi_color, (ex, ey), (ex + ew, ey + eh), (255, 0, 0), 2)\n",
    "\n",
    "        roi_resized = cv2.resize(roi_color, (200, 200))\n",
    "\n",
    "    return img\n",
    "\n",
    "cap = cv2.VideoCapture(0)\n",
    "\n",
    "\n",
    "while True:\n",
    "    ret, frame = cap.read()\n",
    "    if not ret:\n",
    "        print(\"Failed to grab frame\")\n",
    "        break\n",
    "\n",
    "    output = face_detector(frame)\n",
    "    if output is not None:\n",
    "        cv2.imshow('Face & Eye Detector', output)\n",
    "\n",
    "    if cv2.waitKey(1) == 13: \n",
    "        break\n",
    "\n",
    "cap.release()\n",
    "cv2.destroyAllWindows()\n",
    "\n"
   ]
  },
  {
   "cell_type": "code",
   "execution_count": null,
   "id": "f601f2be-8488-46e1-b83e-537acdfe1257",
   "metadata": {},
   "outputs": [],
   "source": []
  },
  {
   "cell_type": "code",
   "execution_count": 23,
   "id": "ae57596d-efed-4624-95a0-5a5fc7fcf853",
   "metadata": {},
   "outputs": [
    {
     "name": "stdout",
     "output_type": "stream",
     "text": [
      "Error: Could not read frame. Check if 'pedestrainss.mp4' exists.\n"
     ]
    }
   ],
   "source": [
    "# pedestrain detection\n",
    "\n",
    "import cv2\n",
    "import numpy as np\n",
    "\n",
    "body_classifier = cv2.CascadeClassifier(cv2.data.haarcascades + 'haarcascade_fullbody.xml')\n",
    "cap = cv2.VideoCapture(r\"C:\\Users\\MOHAMMED FEROZ\\computer vision\\pedestrainss.mp4\")\n",
    "\n",
    "\n",
    "if not cap.isOpened():\n",
    "    print(\"error: could not open the video\")\n",
    "while cap.isOpened():\n",
    "    ret, frame = cap.read()\n",
    "    if not ret:\n",
    "        print(\"Error: Could not read frame. Check if 'pedestrainss.mp4' exists.\")\n",
    "        break\n",
    "    gray = cv2.cvtColor(frame,cv2.COLOR_BGR2GRAY)\n",
    "    bodies = body_classifier.detectMultiScale(gray, 1.2, 3)\n",
    "\n",
    "    for (x,y,w,h) in bodies:\n",
    "        cv2.rectangle(frame , (x,y) , (x+w , y+h), (0,255,255), 2)\n",
    "\n",
    "        cv2.imshow('Pedestrains detection', frame)\n",
    "        if cv2.waitKey(1) & 0xFF == 27:\n",
    "            break\n",
    "\n",
    "cv2.destroyAllWindows()"
   ]
  },
  {
   "cell_type": "code",
   "execution_count": 28,
   "id": "0c5de3d7-b3b8-4acc-91be-e3a5a94c6d46",
   "metadata": {},
   "outputs": [
    {
     "name": "stdout",
     "output_type": "stream",
     "text": [
      "✅ Video opened successfully\n",
      "Frame width: 1280.0\n",
      "Frame height: 720.0\n",
      "Frame count: 345.0\n",
      "FPS: 25.0\n",
      "⚠️ End of video or cannot read frame\n"
     ]
    }
   ],
   "source": [
    "import cv2\n",
    "\n",
    "\n",
    "cap = cv2.VideoCapture(r\"C:\\Users\\MOHAMMED FEROZ\\computer vision\\peoplewalking.mp4\")\n",
    "\n",
    "if not cap.isOpened():\n",
    "    print(\"❌ Error: Could not open video file\")\n",
    "    exit()\n",
    "\n",
    "print(\"✅ Video opened successfully\")\n",
    "print(\"Frame width:\", cap.get(cv2.CAP_PROP_FRAME_WIDTH))\n",
    "print(\"Frame height:\", cap.get(cv2.CAP_PROP_FRAME_HEIGHT))\n",
    "print(\"Frame count:\", cap.get(cv2.CAP_PROP_FRAME_COUNT))\n",
    "print(\"FPS:\", cap.get(cv2.CAP_PROP_FPS))\n",
    "\n",
    "while True:\n",
    "    ret, frame = cap.read()\n",
    "    if not ret:\n",
    "        print(\"⚠️ End of video or cannot read frame\")\n",
    "        break\n",
    "\n",
    "    # Just show video (no detection yet)\n",
    "    cv2.imshow(\"Video Test\", frame)\n",
    "\n",
    "    if cv2.waitKey(25) & 0xFF == 27:  # ESC to quit\n",
    "        break\n",
    "\n",
    "cap.release()\n",
    "cv2.destroyAllWindows()\n"
   ]
  },
  {
   "cell_type": "code",
   "execution_count": 30,
   "id": "f6e4ddfe-06c1-4a00-b3e8-a774ac493950",
   "metadata": {},
   "outputs": [],
   "source": [
    "import cv2\n",
    "\n",
    "hog = cv2.HOGDescriptor()\n",
    "hog.setSVMDetector(cv2.HOGDescriptor_getDefaultPeopleDetector())\n",
    "\n",
    "cap = cv2.VideoCapture(r\"C:\\Users\\MOHAMMED FEROZ\\computer vision\\peoplewalking.mp4\")\n",
    "\n",
    "if not cap.isOpened():\n",
    "    print(\"Error: Could not open video file\")\n",
    "    exit()\n",
    "\n",
    "while True:\n",
    "    ret, frame = cap.read()\n",
    "    if not ret:\n",
    "        print(\"End of video or cannot read frame\")\n",
    "        break\n",
    "\n",
    "    frame = cv2.resize(frame, (640, 480))\n",
    "    boxes, weights = hog.detectMultiScale(\n",
    "        frame,\n",
    "        winStride=(8, 8), \n",
    "        padding=(8, 8),  \n",
    "        scale=1.05        \n",
    "    )\n",
    "    \n",
    "    for (x, y, w, h) in boxes:\n",
    "        cv2.rectangle(frame, (x, y), (x + w, y + h), (0, 255, 255), 2)\n",
    "\n",
    "   \n",
    "    cv2.imshow(\"Pedestrian Detection\", frame)\n",
    "  \n",
    "   \n",
    "    if cv2.waitKey(25) & 0xFF == 27:\n",
    "        break\n",
    "\n",
    "cap.release()\n",
    "cv2.destroyAllWindows()\n"
   ]
  },
  {
   "cell_type": "code",
   "execution_count": null,
   "id": "b7606d82-ec3a-4ccc-9ef0-7d36b1f09bf2",
   "metadata": {},
   "outputs": [],
   "source": [
    "\n",
    "\n"
   ]
  },
  {
   "cell_type": "code",
   "execution_count": 1,
   "id": "8268fae1-7ec1-4b76-897b-0e10dfa724d2",
   "metadata": {},
   "outputs": [
    {
     "name": "stdout",
     "output_type": "stream",
     "text": [
      "✅ Cascade loaded successfully\n"
     ]
    }
   ],
   "source": [
    "# car detection\n",
    "\n",
    "import cv2\n",
    "import os\n",
    "import time\n",
    "\n",
    "\n",
    "cascade_path = r\"C:\\Users\\MOHAMMED FEROZ\\anaconda3\\Lib\\site-packages\\cv2\\data\\haarcascade_eye.xml\"\n",
    "\n",
    "\n",
    "if not os.path.exists(cascade_path):\n",
    "    raise IOError(f\"❌ Cascade file not found at: {cascade_path}\")\n",
    "\n",
    "\n",
    "car_classifier = cv2.CascadeClassifier(cascade_path)\n",
    "\n",
    "if car_classifier.empty():\n",
    "    raise IOError(\"❌ Cascade file is invalid or could not be loaded\")\n",
    "\n",
    "print(\"✅ Cascade loaded successfully\")\n",
    "\n",
    "\n",
    "video_path = r\"C:\\Users\\MOHAMMED FEROZ\\computer vision\\cars.mp4\"\n",
    "cap = cv2.VideoCapture(video_path)\n",
    "\n",
    "if not cap.isOpened():\n",
    "    raise IOError(f\"❌ Could not open video file at: {video_path}\")\n",
    "\n",
    "while cap.isOpened():\n",
    "    time.sleep(0.05) \n",
    "    ret, frame = cap.read()\n",
    "\n",
    "    if not ret:\n",
    "        print(\"✅ End of video or cannot read frame.\")\n",
    "        break\n",
    "\n",
    "\n",
    "    gray = cv2.cvtColor(frame, cv2.COLOR_BGR2GRAY)\n",
    "\n",
    "\n",
    "    cars = car_classifier.detectMultiScale(\n",
    "        gray,\n",
    "        scaleFactor=1.1, \n",
    "        minNeighbors=3,    \n",
    "        minSize=(60, 60)   \n",
    "    )\n",
    "\n",
    "    \n",
    "    for (x, y, w, h) in cars:\n",
    "        cv2.rectangle(frame, (x, y), (x + w, y + h), (0, 255, 255), 2)\n",
    "\n",
    " \n",
    "    cv2.imshow(\"Car Detection\", frame)\n",
    "\n",
    "\n",
    "    if cv2.waitKey(1) & 0xFF == 27:\n",
    "        break\n",
    "\n",
    "\n",
    "cap.release()\n",
    "cv2.destroyAllWindows()\n"
   ]
  },
  {
   "cell_type": "code",
   "execution_count": null,
   "id": "0777f37f-d0e2-4e24-af3c-c8c5c0d9e6c9",
   "metadata": {},
   "outputs": [],
   "source": [
    "\n",
    "\n",
    "\n",
    "\n",
    "   \n",
    "\n"
   ]
  },
  {
   "cell_type": "code",
   "execution_count": null,
   "id": "520775f6-46dc-4718-8035-f03c4459d191",
   "metadata": {},
   "outputs": [],
   "source": [
    "\n",
    "\n"
   ]
  },
  {
   "cell_type": "code",
   "execution_count": null,
   "id": "a5f328d9-7d87-40af-9d54-620f47ba083e",
   "metadata": {},
   "outputs": [],
   "source": []
  }
 ],
 "metadata": {
  "kernelspec": {
   "display_name": "Python 3 (ipykernel)",
   "language": "python",
   "name": "python3"
  },
  "language_info": {
   "codemirror_mode": {
    "name": "ipython",
    "version": 3
   },
   "file_extension": ".py",
   "mimetype": "text/x-python",
   "name": "python",
   "nbconvert_exporter": "python",
   "pygments_lexer": "ipython3",
   "version": "3.11.11"
  }
 },
 "nbformat": 4,
 "nbformat_minor": 5
}
